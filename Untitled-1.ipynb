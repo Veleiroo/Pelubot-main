{
  "cells": [
    {
      "cell_type": "markdown",
      "id": "cac22240",
      "metadata": {},
      "source": [
        "# **Documentación Pelubot**"
      ]
    },
    {
      "cell_type": "markdown",
      "id": "7ea5032d",
      "metadata": {},
      "source": [
        "## **Cambios pendientes**"
      ]
    },
    {
      "cell_type": "markdown",
      "id": "ce2ccb6b",
      "metadata": {},
      "source": [
        "### **Errores o mejoras visuales**"
      ]
    },
    {
      "cell_type": "markdown",
      "id": "1ab50ad3",
      "metadata": {},
      "source": [
        "#### **Sección de Pros**"
      ]
    },
    {
      "cell_type": "markdown",
      "id": "1de8333d",
      "metadata": {},
      "source": [
        "**Header:**\n",
        "- Pelubot deberías estar alineado a la izquierda y nueva cita y salir a la derecha (Archivo: ProsHeader.tsx)\n",
        "  \n",
        "**Agenda:**\n",
        "- Arreglar estilo del hover del calendario \n",
        "- Replantearse el layout    \n",
        "- Refinar Interfaz de reprogramar\n",
        "- Refinar crear cita\n",
        "- Boton de Nueva Cita\n",
        "- Animaciones\n",
        "\n",
        "**Resumen:**\n",
        "- Boton de No asistió\n",
        "- Citas de hoy\n",
        "- Animaciones   \n",
        "- Versión de movil"
      ]
    },
    {
      "cell_type": "markdown",
      "id": "2da4fc80",
      "metadata": {},
      "source": [
        "#### **Sección clientes**"
      ]
    },
    {
      "cell_type": "markdown",
      "id": "b4c650d5",
      "metadata": {},
      "source": [
        "**Colores**\n",
        "- Revisar si volver al verde u otro color\n",
        "- Alinear colores de animaciones con color de acento\n",
        "  \n",
        "**Página principal**\n",
        "- Quitar puntos parpadeantes\n",
        "- Alinear ratón animado\n",
        "- Revisar hover\n",
        "- Animaciones Reservar\n",
        "\n",
        "**Sobre nosotros**\n",
        "- Corregir texto\n",
        "- Foto\n",
        "- Revisar info\n",
        "\n",
        "**Nuestros servicios**\n",
        "- Desalineamiento vertical del contenido de las cards\n",
        "- Contenido de las cards modificado \n",
        "- Quitar consulta personalizada\n",
        "- Revisar animación de boton de reservar cita (baja demasiado y boton de hover mal)\n",
        "- Interfaz de reserva de cita\n",
        "\n",
        "**Galería de trabajos**\n",
        "- Revisar fotos\n",
        "\n",
        "**Contacto y ubicación**\n",
        "- Revisar footer inferior"
      ]
    },
    {
      "cell_type": "markdown",
      "id": "18476554",
      "metadata": {},
      "source": [
        "### ✅ Cambios aplicados\n",
        "- **Header pros**: Logo + nombre alineados a la izquierda, navegación centrada, acciones (Nueva cita / Salir) a la derecha, tipografías más grandes y espaciado ajustado.\n",
        "- **Header landing**: Reestructurado con tijeras, navegación centrada y CTA a la derecha; tipografías ampliadas y botones en una sola línea.",
        "- **Hero landing**: rediseño premium con gradientes oro, animaciones escalonadas, CTAs renovados y tipografía de alto impacto.\n"
      ]
    }
  ],
  "metadata": {
    "language_info": {
      "name": "python"
    }
  },
  "nbformat": 4,
  "nbformat_minor": 5
}